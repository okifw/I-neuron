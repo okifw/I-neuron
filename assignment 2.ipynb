{
 "cells": [
  {
   "cell_type": "markdown",
   "metadata": {},
   "source": [
    "1. "
   ]
  },
  {
   "cell_type": "code",
   "execution_count": 3,
   "metadata": {},
   "outputs": [
    {
     "name": "stdout",
     "output_type": "stream",
     "text": [
      "10\n"
     ]
    }
   ],
   "source": [
    "lst = [1,2,3,4]\n",
    "zero = 0\n",
    "for i in lst:\n",
    "    zero = zero+i\n",
    "print (zero)"
   ]
  },
  {
   "cell_type": "markdown",
   "metadata": {},
   "source": [
    "2."
   ]
  },
  {
   "cell_type": "code",
   "execution_count": 9,
   "metadata": {},
   "outputs": [
    {
     "name": "stdout",
     "output_type": "stream",
     "text": [
      "[2, 4, 6, 8, 10, 12, 14]\n"
     ]
    }
   ],
   "source": [
    "lst = [1,2,3,4,5,6,7,8,9,10,11,12,13,14,15]\n",
    "kon = []\n",
    "for i in lst:\n",
    "    if i%2==0:\n",
    "        kon.append(i)\n",
    "print (kon)"
   ]
  },
  {
   "cell_type": "markdown",
   "metadata": {},
   "source": [
    "3"
   ]
  },
  {
   "cell_type": "code",
   "execution_count": 12,
   "metadata": {},
   "outputs": [
    {
     "name": "stdout",
     "output_type": "stream",
     "text": [
      "['a', 'c', 'a', 'd', 'g', 'i', 'l', 'd']\n"
     ]
    }
   ],
   "source": [
    "lst = 'acadgild'\n",
    "listu = [word for word in lst]\n",
    "print (listu)"
   ]
  },
  {
   "cell_type": "code",
   "execution_count": 6,
   "metadata": {},
   "outputs": [
    {
     "name": "stdout",
     "output_type": "stream",
     "text": [
      "['x', 'xx', 'xxx', 'xxxx', 'y', 'yy', 'yyy', 'yyyy', 'z', 'zz', 'zzz', 'zzzz']\n"
     ]
    }
   ],
   "source": [
    "lst = 'xyz'\n",
    "listx = [i*n for i in lst for n in range(1,5)]\n",
    "print (listx)\n"
   ]
  },
  {
   "cell_type": "code",
   "execution_count": 65,
   "metadata": {},
   "outputs": [
    {
     "name": "stdout",
     "output_type": "stream",
     "text": [
      "['x', 'y', 'z', 'xx', 'yy', 'zz', 'xxx', 'yyy', 'zzz', 'xxxx', 'yyyy', 'zzzz']\n"
     ]
    }
   ],
   "source": [
    "lst = 'xyz'\n",
    "listx = [i*n for n in range(1,5) for i in lst]\n",
    "print (listx)"
   ]
  },
  {
   "cell_type": "code",
   "execution_count": 74,
   "metadata": {},
   "outputs": [
    {
     "name": "stdout",
     "output_type": "stream",
     "text": [
      "[[2], [3], [4], [3], [4], [5], [4], [5], [6]]\n"
     ]
    }
   ],
   "source": [
    "num = [2,3,4]\n",
    "listy = [[i+n] for i in num for n in range(0,3)]\n",
    "print(listy)"
   ]
  },
  {
   "cell_type": "code",
   "execution_count": 73,
   "metadata": {},
   "outputs": [
    {
     "name": "stdout",
     "output_type": "stream",
     "text": [
      "[[2, 3, 4, 5], [3, 4, 5, 6], [4, 5, 6, 7]]\n"
     ]
    }
   ],
   "source": [
    "num = [2,3,4,5]\n",
    "listy = [[i+n for i in num] for n in range(0,3)]\n",
    "print(listy)"
   ]
  },
  {
   "cell_type": "code",
   "execution_count": 81,
   "metadata": {},
   "outputs": [
    {
     "name": "stdout",
     "output_type": "stream",
     "text": [
      "[(1, 1), (2, 1), (3, 1), (1, 2), (2, 2), (3, 2), (1, 3), (2, 3), (3, 3)]\n"
     ]
    }
   ],
   "source": [
    "num = [1,2,3]\n",
    "listy = [(n,i) for i in num for n in range(1,4)]\n",
    "print(listy)"
   ]
  },
  {
   "cell_type": "code",
   "execution_count": 121,
   "metadata": {},
   "outputs": [],
   "source": [
    "def longestWord(wordy):\n",
    "    lenword = []\n",
    "    for i in wordy:\n",
    "        lenword.append((len(i),i))\n",
    "        lenword.sort()\n",
    "    #print (lenword)\n",
    "    return lenword[-1][1]"
   ]
  },
  {
   "cell_type": "code",
   "execution_count": 122,
   "metadata": {},
   "outputs": [
    {
     "data": {
      "text/plain": [
       "'askjhdgahsdjhadja'"
      ]
     },
     "execution_count": 122,
     "metadata": {},
     "output_type": "execute_result"
    }
   ],
   "source": [
    "longestWord(['exer','asjdahdjka','askjhdgahsdjhadja'])"
   ]
  },
  {
   "cell_type": "markdown",
   "metadata": {},
   "source": [
    "## Task 2"
   ]
  },
  {
   "cell_type": "markdown",
   "metadata": {},
   "source": [
    "1.1"
   ]
  },
  {
   "cell_type": "code",
   "execution_count": 57,
   "metadata": {},
   "outputs": [],
   "source": [
    "class Triangle :\n",
    "    def __init__(self,a,b,c):\n",
    "        self.a = a\n",
    "        self.b = b\n",
    "        self.c = c\n",
    "    \n",
    "    def __str__(self):\n",
    "        return ('Triangle \\n \\tSisi1 : ' + str(self.a)\n",
    "               + '\\n \\tSisi2 : ' + str(self.b) + '\\n \\tSisi3 : ' + str(self.c))\n",
    "    \n",
    "    def Area(self):\n",
    "        s=(self.a + self.b + self.c)/2\n",
    "        return 'Area is :' + str((s*((s-self.a)*(s-self.b)*(s-self.c)))** 0.5)"
   ]
  },
  {
   "cell_type": "code",
   "execution_count": 58,
   "metadata": {},
   "outputs": [
    {
     "name": "stdout",
     "output_type": "stream",
     "text": [
      "Triangle \n",
      " \tSisi1 : 2\n",
      " \tSisi2 : 2\n",
      " \tSisi3 : 2\n",
      "Area is :1.7320508075688772\n"
     ]
    }
   ],
   "source": [
    "t = Triangle(2,2,2)\n",
    "print (t)\n",
    "print (t.Area())"
   ]
  },
  {
   "cell_type": "markdown",
   "metadata": {},
   "source": [
    "1.2"
   ]
  },
  {
   "cell_type": "code",
   "execution_count": 72,
   "metadata": {},
   "outputs": [],
   "source": [
    "\n",
    "def filter_long_words(words,num):\n",
    "    i = [word for word in words if len(word) > num]\n",
    "    return i"
   ]
  },
  {
   "cell_type": "code",
   "execution_count": 73,
   "metadata": {},
   "outputs": [
    {
     "name": "stdout",
     "output_type": "stream",
     "text": [
      "['this should']\n"
     ]
    }
   ],
   "source": [
    "print (filter_long_words(['test', 'not', 'this should'], 5))"
   ]
  },
  {
   "cell_type": "markdown",
   "metadata": {},
   "source": [
    "2.1"
   ]
  },
  {
   "cell_type": "code",
   "execution_count": 9,
   "metadata": {},
   "outputs": [
    {
     "name": "stdout",
     "output_type": "stream",
     "text": [
      "[4, 8, 8, 8]\n"
     ]
    }
   ],
   "source": [
    "\n",
    "words = ['asda','asdasdqd','asdadasd','asdqdasd']\n",
    "\n",
    "lst = []\n",
    "for i in range(len(words)):\n",
    "    lst.append(len(words[i]))\n",
    "    \n",
    "print (lst)\n",
    "    "
   ]
  },
  {
   "cell_type": "code",
   "execution_count": 25,
   "metadata": {},
   "outputs": [],
   "source": [
    "words ='asda','asdasdqd','asdadasd','asdqdasd'\n",
    "\n",
    "lst1 = []\n",
    "for i in words:\n",
    "    lst1.append(len(i))"
   ]
  },
  {
   "cell_type": "code",
   "execution_count": 26,
   "metadata": {},
   "outputs": [
    {
     "name": "stdout",
     "output_type": "stream",
     "text": [
      "[4, 8, 8, 8]\n"
     ]
    }
   ],
   "source": [
    "print (lst1)"
   ]
  },
  {
   "cell_type": "markdown",
   "metadata": {},
   "source": [
    "2.2"
   ]
  },
  {
   "cell_type": "code",
   "execution_count": 2,
   "metadata": {},
   "outputs": [],
   "source": [
    "def takechar (words):\n",
    "    for i in words:\n",
    "        if i in ('a','i','u','e','o'):\n",
    "            return True\n",
    "        else:\n",
    "            return False\n",
    "        \n",
    "        "
   ]
  },
  {
   "cell_type": "code",
   "execution_count": 8,
   "metadata": {},
   "outputs": [
    {
     "name": "stdout",
     "output_type": "stream",
     "text": [
      "True\n",
      "False\n"
     ]
    }
   ],
   "source": [
    "print(takechar('a'))\n",
    "print(takechar('b'))"
   ]
  }
 ],
 "metadata": {
  "kernelspec": {
   "display_name": "Python 3",
   "language": "python",
   "name": "python3"
  },
  "language_info": {
   "codemirror_mode": {
    "name": "ipython",
    "version": 3
   },
   "file_extension": ".py",
   "mimetype": "text/x-python",
   "name": "python",
   "nbconvert_exporter": "python",
   "pygments_lexer": "ipython3",
   "version": "3.7.3"
  }
 },
 "nbformat": 4,
 "nbformat_minor": 2
}
